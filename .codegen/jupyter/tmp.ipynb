{
 "cells": [
  {
   "cell_type": "code",
   "execution_count": null,
   "metadata": {},
   "outputs": [],
   "source": [
    "from codegen import Codebase\n",
    "\n",
    "# Initialize codebase\n",
    "codebase = Codebase(\"../../\")\n",
    "\n",
    "# Print out stats\n",
    "print(\"🔍 Codebase Analysis\")\n",
    "print(\"=\" * 50)\n",
    "print(f\"📚 Total Files: {len(codebase.files)}\")\n",
    "print(f\"⚡ Total Functions: {len(codebase.functions)}\")\n",
    "print(f\"🔄 Total Imports: {len(codebase.imports)}\")"
   ]
  }
 ],
 "metadata": {
  "kernelspec": {
   "display_name": "Python 3",
   "language": "python",
   "name": "python3"
  }
 },
 "nbformat": 4,
 "nbformat_minor": 4
}