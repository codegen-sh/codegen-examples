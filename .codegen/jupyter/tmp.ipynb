{
  "cells": [
    {
      "cell_type": "code",
      "source": "from codegen import Codebase\n\n# Initialize codebase\ncodebase = Codebase('../../')\n\n# Print out stats\nprint(\"\ud83d\udd0d Codebase Analysis\")\nprint(\"=\" * 50)\nprint(f\"\ud83d\udcda Total Files: {len(codebase.files)}\")\nprint(f\"\u26a1 Total Functions: {len(codebase.functions)}\")\nprint(f\"\ud83d\udd04 Total Imports: {len(codebase.imports)}\")",
      "metadata": {},
      "execution_count": null,
      "outputs": []
    }
  ],
  "metadata": {
    "kernelspec": {
      "display_name": "Python 3",
      "language": "python",
      "name": "python3"
    }
  },
  "nbformat": 4,
  "nbformat_minor": 4
}